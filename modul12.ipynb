{
 "cells": [
  {
   "cell_type": "code",
   "execution_count": 6,
   "id": "d156e14c",
   "metadata": {},
   "outputs": [
    {
     "name": "stdout",
     "output_type": "stream",
     "text": [
      "Сумма,положенная на счет: 100\n",
      "Сумма,которую Вы можете заработать-  [5.6, 5.9, 4.28, 4.0]\n",
      "Максимальная сумма,которую Вы можете заработать-  5.9\n"
     ]
    }
   ],
   "source": [
    "per_cent = {'ТКБ': 5.6, 'СКБ': 5.9, 'ВТБ': 4.28, 'СБЕР': 4.0}\n",
    "values_list = list(per_cent.values())\n",
    "money = int(input(\"Сумма,положенная на счет: \"))\n",
    "def percent(X): return X*money/100\n",
    "Deposit_d = map(percent, values_list)\n",
    "deposit = list(Deposit_d)\n",
    "print(\"Сумма,которую Вы можете заработать- \", deposit)\n",
    "print(\"Максимальная сумма,которую Вы можете заработать- \", max(deposit))"
   ]
  },
  {
   "cell_type": "code",
   "execution_count": null,
   "id": "1eedffc5",
   "metadata": {},
   "outputs": [],
   "source": []
  },
  {
   "cell_type": "code",
   "execution_count": null,
   "id": "f74fc1f8",
   "metadata": {},
   "outputs": [],
   "source": []
  },
  {
   "cell_type": "code",
   "execution_count": null,
   "id": "4364cc08",
   "metadata": {},
   "outputs": [],
   "source": []
  }
 ],
 "metadata": {
  "kernelspec": {
   "display_name": "Python 3 (ipykernel)",
   "language": "python",
   "name": "python3"
  },
  "language_info": {
   "codemirror_mode": {
    "name": "ipython",
    "version": 3
   },
   "file_extension": ".py",
   "mimetype": "text/x-python",
   "name": "python",
   "nbconvert_exporter": "python",
   "pygments_lexer": "ipython3",
   "version": "3.9.7"
  }
 },
 "nbformat": 4,
 "nbformat_minor": 5
}
