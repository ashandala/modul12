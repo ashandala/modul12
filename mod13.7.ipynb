{
 "cells": [
  {
   "cell_type": "code",
   "execution_count": 4,
   "id": "b73576b1",
   "metadata": {},
   "outputs": [
    {
     "name": "stdout",
     "output_type": "stream",
     "text": [
      "Введите количество билетов:4\n",
      "Введите возраст 1 участника:56\n",
      "Введите возраст 2 участника:45\n",
      "Введите возраст 3 участника:12\n",
      "Введите возраст 4 участника:34\n",
      "Сумма покупки со скидкой 10%: 3753.0\n"
     ]
    }
   ],
   "source": [
    "ticket = int(input(\"Введите количество билетов:\"))\n",
    "price = []\n",
    "for i in range(1, ticket + 1):\n",
    "    age_ticket = int(input(f\"Введите возраст {i} участника:\"))\n",
    "    if age_ticket < 18:\n",
    "        price.append (0)\n",
    "    elif age_ticket > 25:\n",
    "        price.append (1390)\n",
    "    else:\n",
    "        price.append (990)\n",
    "if ticket < 3:\n",
    "    print(\"Сумма покупки:\", sum(price))\n",
    "else:\n",
    "    print(\"Сумма покупки со скидкой 10%:\", sum( price) - sum(price) / 10)\n",
    "        \n",
    "    "
   ]
  },
  {
   "cell_type": "code",
   "execution_count": null,
   "id": "75856a1e",
   "metadata": {},
   "outputs": [],
   "source": []
  },
  {
   "cell_type": "code",
   "execution_count": null,
   "id": "b6c4686f",
   "metadata": {},
   "outputs": [],
   "source": []
  },
  {
   "cell_type": "code",
   "execution_count": null,
   "id": "b3f587e1",
   "metadata": {},
   "outputs": [],
   "source": []
  }
 ],
 "metadata": {
  "kernelspec": {
   "display_name": "Python 3 (ipykernel)",
   "language": "python",
   "name": "python3"
  },
  "language_info": {
   "codemirror_mode": {
    "name": "ipython",
    "version": 3
   },
   "file_extension": ".py",
   "mimetype": "text/x-python",
   "name": "python",
   "nbconvert_exporter": "python",
   "pygments_lexer": "ipython3",
   "version": "3.9.7"
  }
 },
 "nbformat": 4,
 "nbformat_minor": 5
}
